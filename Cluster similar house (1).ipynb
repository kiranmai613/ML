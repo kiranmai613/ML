{
 "cells": [
  {
   "cell_type": "code",
   "execution_count": 5,
   "metadata": {},
   "outputs": [],
   "source": [
    "import pandas as pd"
   ]
  },
  {
   "cell_type": "code",
   "execution_count": 6,
   "metadata": {},
   "outputs": [],
   "source": [
    "df = pd.read_csv('house_data.csv.txt', index_col='Unnamed: 0')"
   ]
  },
  {
   "cell_type": "code",
   "execution_count": 7,
   "metadata": {},
   "outputs": [
    {
     "data": {
      "text/html": [
       "<div>\n",
       "<style scoped>\n",
       "    .dataframe tbody tr th:only-of-type {\n",
       "        vertical-align: middle;\n",
       "    }\n",
       "\n",
       "    .dataframe tbody tr th {\n",
       "        vertical-align: top;\n",
       "    }\n",
       "\n",
       "    .dataframe thead th {\n",
       "        text-align: right;\n",
       "    }\n",
       "</style>\n",
       "<table border=\"1\" class=\"dataframe\">\n",
       "  <thead>\n",
       "    <tr style=\"text-align: right;\">\n",
       "      <th></th>\n",
       "      <th>Sqft</th>\n",
       "      <th>Floor</th>\n",
       "      <th>TotalFloor</th>\n",
       "      <th>Bedroom</th>\n",
       "      <th>Living.Room</th>\n",
       "      <th>Bathroom</th>\n",
       "      <th>Price</th>\n",
       "    </tr>\n",
       "  </thead>\n",
       "  <tbody>\n",
       "    <tr>\n",
       "      <th>1</th>\n",
       "      <td>1177.698</td>\n",
       "      <td>2</td>\n",
       "      <td>7</td>\n",
       "      <td>2</td>\n",
       "      <td>2</td>\n",
       "      <td>2</td>\n",
       "      <td>62000</td>\n",
       "    </tr>\n",
       "    <tr>\n",
       "      <th>2</th>\n",
       "      <td>2134.800</td>\n",
       "      <td>5</td>\n",
       "      <td>7</td>\n",
       "      <td>4</td>\n",
       "      <td>2</td>\n",
       "      <td>2</td>\n",
       "      <td>78000</td>\n",
       "    </tr>\n",
       "    <tr>\n",
       "      <th>3</th>\n",
       "      <td>1138.560</td>\n",
       "      <td>5</td>\n",
       "      <td>7</td>\n",
       "      <td>2</td>\n",
       "      <td>2</td>\n",
       "      <td>1</td>\n",
       "      <td>58000</td>\n",
       "    </tr>\n",
       "    <tr>\n",
       "      <th>4</th>\n",
       "      <td>1458.780</td>\n",
       "      <td>2</td>\n",
       "      <td>7</td>\n",
       "      <td>3</td>\n",
       "      <td>2</td>\n",
       "      <td>2</td>\n",
       "      <td>45000</td>\n",
       "    </tr>\n",
       "    <tr>\n",
       "      <th>5</th>\n",
       "      <td>967.776</td>\n",
       "      <td>11</td>\n",
       "      <td>14</td>\n",
       "      <td>3</td>\n",
       "      <td>2</td>\n",
       "      <td>2</td>\n",
       "      <td>45000</td>\n",
       "    </tr>\n",
       "  </tbody>\n",
       "</table>\n",
       "</div>"
      ],
      "text/plain": [
       "       Sqft  Floor  TotalFloor  Bedroom  Living.Room  Bathroom  Price\n",
       "1  1177.698      2           7        2            2         2  62000\n",
       "2  2134.800      5           7        4            2         2  78000\n",
       "3  1138.560      5           7        2            2         1  58000\n",
       "4  1458.780      2           7        3            2         2  45000\n",
       "5   967.776     11          14        3            2         2  45000"
      ]
     },
     "execution_count": 7,
     "metadata": {},
     "output_type": "execute_result"
    }
   ],
   "source": [
    "df.head()"
   ]
  },
  {
   "cell_type": "code",
   "execution_count": 13,
   "metadata": {},
   "outputs": [
    {
     "data": {
      "text/plain": [
       "Sqft           0\n",
       "Floor          0\n",
       "TotalFloor     0\n",
       "Bedroom        0\n",
       "Living.Room    0\n",
       "Bathroom       0\n",
       "Price          0\n",
       "dtype: int64"
      ]
     },
     "execution_count": 13,
     "metadata": {},
     "output_type": "execute_result"
    }
   ],
   "source": [
    "df.isnull().sum()"
   ]
  },
  {
   "cell_type": "code",
   "execution_count": 8,
   "metadata": {},
   "outputs": [],
   "source": [
    "X = df.iloc[:,:5].values"
   ]
  },
  {
   "cell_type": "code",
   "execution_count": 17,
   "metadata": {},
   "outputs": [
    {
     "name": "stdout",
     "output_type": "stream",
     "text": [
      "[4 5 4 0 4 4 4 1 4 0 1 1 4 1 5 2 1 1 2 4 5 2 1 0 2 0 2 2 1 1 0 4 5 4 1 1 1\n",
      " 1 2 1 2 1 4 4 0 0 0 5 2 1 5 0 1 1 3 5 1 4 1 4 1 1 0 4 1 1 4 1 1 4 1 4 5 4\n",
      " 1 0 5 0 0 1 0 1 1 1 4 0 2 0 5 5 5 5 0 5 5 0 5 0 0 5 5 0 2 2 2 0 2 1 5 5 5\n",
      " 1 5 5 0 0 2 1 1 4 1 4 5 5 5 4 4 5 4 1 0 0 5 4 0 5 1 0 5 4 2 4 4 4 4 1 5 3\n",
      " 4 0 0 5 0 1 4 4 1 0 4 0 0 1 1 2 4 0 5 5 0 4 5 0 5 2 1 0 5 4 0 0 0 1 2 4 4\n",
      " 4 4 4 4 0 1 1 5 5 0 0 0 1 1 0 4 0 4 1 4 5 1 4 0 0 0 1 5 1 4 0 0 5 1 5 4 5\n",
      " 2 1 5 1 4 1 5 0 0 0 5 0 0 1 0 0 1 5 1 0 2 5 5 4 2 1 2 5 0 2 5 0 5 1 1 4 2\n",
      " 0 1 1 0 5 4 4 1 1 4 4 4 5 1 1 4 0 4 0 0 1 1 5 0 4 5 0 2 5 1 5 0 1 5 4 0 0\n",
      " 2 2 2 2 5 0 4 5 5 0 0 0 4 4 0 0 0 0 0 0 5 5 0 5 4 4 2 5 1 0 0 2 1 0 0 5 1\n",
      " 2 5 4 0 4 1 0 1 1 5 0 4 1 1 0 1 1 4 1 5 5 4 5 5 5 5 5 0 0 4 1 1 1 0 0 1 1\n",
      " 1 1 1 0 0 4 4 0 4 5 5 5 5 4 0 5 5 1 0 4 4 2 0 4 4 0 5 1 0 4 4 5 5 4 1 1 4\n",
      " 4 1 1 1 1 1 0 1 1 5 2 1 1 1 0 4 5 5 5 5 2 1 4 4 5 1 1 2 2 1 1 0 4 1 5 5 4\n",
      " 2 5 5 0 0 1 4 1 1 0 1 4 0 0 0 4 5 4 0 5 4 0 4 5 1 2 5 5 0 4 0 0 4 0 1 5 5\n",
      " 5 0 1 0 4 1 1 0 1 0 0 2 0 0 1 5 1 5 4 4 2 4 0 4 4 5 5 1 1 5 5 4 1 5 0 1 4\n",
      " 1 1 4 1 5 4 5 4 4 0 1 2 4 1 0 5 1 0 0 0 1 4 5 4 1 4 0 4 0 0 4 5 0 5 0 0 1\n",
      " 2 4 1 1 4 0 0 1 1 5 0 5 5 1 1 4 1 3 4 1 1 1 0 3 1 5 4 4 4 0 2 1 1 4 0 1 0\n",
      " 4 4 1 0 4 5 1 0 4 4 5 4 0 1 4 4 1 4 5 0 4 1 1 5 4 1 5 1 1 3 2 5 5 4 4 0 4\n",
      " 4 4 4 4 5 1 5 4 0 0 2 4 1 1 0 4]\n"
     ]
    }
   ],
   "source": [
    "from sklearn.cluster import KMeans\n",
    "k_means = KMeans(n_clusters = 6, init = 'k-means++', random_state = 4)\n",
    "k_means.fit(X)\n",
    "print(k_means.labels_)"
   ]
  },
  {
   "cell_type": "code",
   "execution_count": 18,
   "metadata": {},
   "outputs": [],
   "source": [
    "wcss = []\n",
    "for k in range(1, 15):\n",
    "    k_means = KMeans(n_clusters = k, init = 'k-means++', random_state = 4)\n",
    "    k_means.fit(X)\n",
    "    wcss.append(k_means.inertia_)"
   ]
  },
  {
   "cell_type": "code",
   "execution_count": 16,
   "metadata": {},
   "outputs": [
    {
     "data": {
      "image/png": "[encoded data removed]",
      "text/plain": [
       "<Figure size 432x288 with 1 Axes>"
      ]
     },
     "metadata": {
      "needs_background": "light"
     },
     "output_type": "display_data"
    }
   ],
   "source": [
    "import matplotlib.pyplot as plt\n",
    "plt.plot(range(1,15), wcss)\n",
    "plt.title('Elbow Method')\n",
    "plt.xlabel('Number of Clusters')\n",
    "plt.ylabel('WCSS Score')    \n",
    "plt.show()"
   ]
  },
  {
   "cell_type": "code",
   "execution_count": null,
   "metadata": {},
   "outputs": [],
   "source": []
  }
 ],
 "metadata": {
  "kernelspec": {
   "display_name": "Python 3 (ipykernel)",
   "language": "python",
   "name": "python3"
  },
  "language_info": {
   "codemirror_mode": {
    "name": "ipython",
    "version": 3
   },
   "file_extension": ".py",
   "mimetype": "text/x-python",
   "name": "python",
   "nbconvert_exporter": "python",
   "pygments_lexer": "ipython3",
   "version": "3.10.9"
  }
 },
 "nbformat": 4,
 "nbformat_minor": 4
}
